{
 "cells": [
  {
   "cell_type": "code",
   "execution_count": 9,
   "metadata": {},
   "outputs": [],
   "source": [
    "# Shhhhhhh......\n",
    "import warnings\n",
    "warnings.filterwarnings('ignore')\n",
    "import os\n",
    "os.environ['TF_CPP_MIN_LOG_LEVEL'] = '3' "
   ]
  },
  {
   "cell_type": "code",
   "execution_count": 10,
   "metadata": {},
   "outputs": [],
   "source": [
    "from csv import reader\n",
    "from sklearn import svm\n",
    "import numpy as np\n",
    "import time"
   ]
  },
  {
   "cell_type": "code",
   "execution_count": 11,
   "metadata": {},
   "outputs": [],
   "source": [
    "# Read datasets from CSV input file\n",
    "def Read_file(file_name):\n",
    "    dataset = list()\n",
    "    with open(file_name, 'r', newline='',encoding='utf-8') as file:\n",
    "        csv_reader = reader(file)\n",
    "        for row in csv_reader:\n",
    "            if not row:\n",
    "                continue\n",
    "            dataset.append(row)\n",
    "    return dataset"
   ]
  },
  {
   "cell_type": "code",
   "execution_count": 12,
   "metadata": {},
   "outputs": [],
   "source": [
    "# Convert string columns to float in input dataset\n",
    "def str_column_to_float(dataset, column):\n",
    "    for row in dataset:\n",
    "        row[column] = float(row[column].strip())"
   ]
  },
  {
   "cell_type": "code",
   "execution_count": 13,
   "metadata": {},
   "outputs": [],
   "source": [
    "# Convert string column to integer in input dataset (last column with class value)\n",
    "def str_column_to_int(dataset, column):\n",
    "    class_values = [row[column] for row in dataset]\n",
    "    unique = set(class_values)\n",
    "    lookup = dict()\n",
    "    for i, value in enumerate(unique):\n",
    "        lookup[value] = i\n",
    "    for row in dataset:\n",
    "        row[column] = lookup[row[column]]\n",
    "    return lookup"
   ]
  },
  {
   "cell_type": "code",
   "execution_count": 14,
   "metadata": {},
   "outputs": [],
   "source": [
    "# Find the min and max values for each column\n",
    "def dataset_minmax(dataset):\n",
    "    stats = [[min(column), max(column)] for column in zip(*dataset)]\n",
    "    return stats\n"
   ]
  },
  {
   "cell_type": "code",
   "execution_count": 15,
   "metadata": {},
   "outputs": [],
   "source": [
    "# Rescale dataset columns to the range 0-1\n",
    "def normalize_dataset(dataset, minmax):\n",
    "    for row in dataset:\n",
    "        for i in range(len(row) - 1):\n",
    "            row[i] = (row[i] - minmax[i][0]) / (minmax[i][1] - minmax[i][0])\n",
    "\n",
    "\n",
    "start_time = time.time()"
   ]
  },
  {
   "cell_type": "code",
   "execution_count": 16,
   "metadata": {},
   "outputs": [],
   "source": [
    "# testdataset\n",
    "testdataset = Read_file('SVM_Input.csv')\n",
    "test_target= Read_file('SVM_Target.csv')\n",
    "\n",
    "n_epoch = 30\n",
    "w = 0\n",
    "r = 1\n",
    "runs = [0]*30\n",
    "\n",
    "for j in range(len(runs)):\n",
    "    # # learning_rate = learning_rate + 0.05\n",
    "    # # n_epoch = n_epoch + 4\n",
    "    r =  r + 1000\n",
    "    if (r + 10000) > 15800:\n",
    "        r = w\n",
    "        w += 300\n",
    "    traindataset = [testdataset[i] for i in range(r, r + 10000)]\n",
    "    train_target = [test_target[i] for i in range(r, r + 10000)]\n",
    "    clf = svm.SVC(kernel=\"rbf\", decision_function_shape='ovo')\n",
    "    clf.fit(traindataset, train_target)"
   ]
  },
  {
   "cell_type": "code",
   "execution_count": 17,
   "metadata": {},
   "outputs": [
    {
     "name": "stdout",
     "output_type": "stream",
     "text": [
      "Accuracy: 0.006323910706380826\n",
      "n_epoch: 30\n",
      "Mean_Accuracy: 0.00021079702354602752\n",
      "Standard_Deviation: 0.0011351767126487708\n",
      "total_time : 157.55624198913574\n"
     ]
    }
   ],
   "source": [
    "# test network\n",
    "count = 0\n",
    "total = 0\n",
    "for i in range(0, len(testdataset)):\n",
    "    total += 1\n",
    "    temp = clf.predict([testdataset[i]])\n",
    "if temp == test_target[i]:\n",
    "    count += 1\n",
    "    accuracy = count * 100 / total\n",
    "    print('Accuracy: %s' % accuracy)\n",
    "    runs[j] = accuracy\n",
    "\n",
    "mean = sum(runs)/len(runs)\n",
    "print(\"n_epoch: {}\".format(n_epoch))\n",
    "print(\"Mean_Accuracy: {}\".format(mean))\n",
    "print(\"Standard_Deviation: {}\".format(np.std(runs, 0)))\n",
    "time_taken = time.time() - start_time\n",
    "print(\"total_time : {}\".format(time_taken))\n"
   ]
  },
  {
   "cell_type": "code",
   "execution_count": null,
   "metadata": {},
   "outputs": [],
   "source": []
  },
  {
   "cell_type": "code",
   "execution_count": null,
   "metadata": {},
   "outputs": [],
   "source": []
  }
 ],
 "metadata": {
  "kernelspec": {
   "display_name": "Python 3",
   "language": "python",
   "name": "python3"
  },
  "language_info": {
   "codemirror_mode": {
    "name": "ipython",
    "version": 3
   },
   "file_extension": ".py",
   "mimetype": "text/x-python",
   "name": "python",
   "nbconvert_exporter": "python",
   "pygments_lexer": "ipython3",
   "version": "3.6.8"
  }
 },
 "nbformat": 4,
 "nbformat_minor": 2
}
