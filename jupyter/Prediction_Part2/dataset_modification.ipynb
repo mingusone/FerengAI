{
 "cells": [
  {
   "cell_type": "code",
   "execution_count": 68,
   "metadata": {},
   "outputs": [],
   "source": [
    "import pandas as pd"
   ]
  },
  {
   "cell_type": "code",
   "execution_count": 69,
   "metadata": {},
   "outputs": [],
   "source": [
    "file = \"NDAQ.CSV\""
   ]
  },
  {
   "cell_type": "code",
   "execution_count": 70,
   "metadata": {},
   "outputs": [],
   "source": [
    "xl = pd.read_csv(file)\n",
    "date = xl['Date']\n",
    "Close = xl['Close']\n",
    "AD_Position = Close.copy()\n",
    "Change = [0]* len(date)\n",
    "Momentum = [0]* len(date)"
   ]
  },
  {
   "cell_type": "code",
   "execution_count": 71,
   "metadata": {},
   "outputs": [],
   "source": [
    "dates = [i.split(' ', 1)[0] for i in date]\n",
    "\n",
    "reference = dates[0]"
   ]
  },
  {
   "cell_type": "code",
   "execution_count": 72,
   "metadata": {},
   "outputs": [],
   "source": [
    "for i in range (1,len(date)):\n",
    "    if Close[i] > Close[i-1] :\n",
    "        Momentum[i] = \"1\"\n",
    "        Change[i] = (Close[i]-Close[i-1])/Close[i-1]\n",
    "    else :\n",
    "        Momentum[i] = \"0\"\n",
    "        Change[i] = (Close[i-1] - Close[i]) / Close[i - 1]"
   ]
  },
  {
   "cell_type": "code",
   "execution_count": 73,
   "metadata": {},
   "outputs": [],
   "source": [
    "xl = pd.DataFrame({'Date':date, 'Close':Close,'Change':Change,'Momentum':Momentum}) # a represents closing date b represents closing value c represents close change and d represents momentum\n",
    "\n",
    "xl.to_csv(\"NDAQ_Modified.csv\",index=False,header=True)"
   ]
  },
  {
   "cell_type": "code",
   "execution_count": null,
   "metadata": {},
   "outputs": [],
   "source": []
  }
 ],
 "metadata": {
  "kernelspec": {
   "display_name": "Python 3",
   "language": "python",
   "name": "python3"
  },
  "language_info": {
   "codemirror_mode": {
    "name": "ipython",
    "version": 3
   },
   "file_extension": ".py",
   "mimetype": "text/x-python",
   "name": "python",
   "nbconvert_exporter": "python",
   "pygments_lexer": "ipython3",
   "version": "3.7.3"
  }
 },
 "nbformat": 4,
 "nbformat_minor": 2
}
