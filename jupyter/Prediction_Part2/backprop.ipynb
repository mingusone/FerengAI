{
 "cells": [
  {
   "cell_type": "code",
   "execution_count": 1,
   "metadata": {},
   "outputs": [],
   "source": [
    "#Program for backpropogation for  6 class dataset\n",
    "\n",
    "from math import exp\n",
    "from random import random\n",
    "from csv import reader\n",
    "import numpy as np\n",
    "import time"
   ]
  },
  {
   "cell_type": "code",
   "execution_count": 2,
   "metadata": {},
   "outputs": [
    {
     "name": "stdout",
     "output_type": "stream",
     "text": [
      "program execution start\n"
     ]
    }
   ],
   "source": [
    "print('program execution start')\n",
    "\n",
    "# Read datasets from CSV input file\n",
    "def Read_file(file_name):\n",
    "    dataset = list()\n",
    "    with open(file_name, 'r', encoding='utf-8') as file:\n",
    "        csv_reader = reader(file)\n",
    "        for row in csv_reader:\n",
    "            if not row:\n",
    "                continue\n",
    "            dataset.append(row)\n",
    "    return dataset"
   ]
  },
  {
   "cell_type": "code",
   "execution_count": 3,
   "metadata": {},
   "outputs": [],
   "source": [
    "# Convert string columns to float in input dataset\n",
    "def str_column_to_float(dataset, column):\n",
    "    for row in dataset:\n",
    "        row[column] = float(row[column].strip())\n"
   ]
  },
  {
   "cell_type": "code",
   "execution_count": 4,
   "metadata": {},
   "outputs": [],
   "source": [
    "# Convert string column to integer in input dataset (last column with class value)\n",
    "def str_column_to_int(dataset, column):\n",
    "    class_values = [row[column] for row in dataset]\n",
    "    unique = set(class_values)\n",
    "    lookup = dict()\n",
    "    for i, value in enumerate(unique):\n",
    "        lookup[value] = i\n",
    "    for row in dataset:\n",
    "        row[column] = lookup[row[column]]\n",
    "    return lookup"
   ]
  },
  {
   "cell_type": "code",
   "execution_count": 5,
   "metadata": {},
   "outputs": [],
   "source": [
    "# Find the min and max values for each column\n",
    "def dataset_minmax(dataset):\n",
    "    stats = [[min(column), max(column)] for column in zip(*dataset)]\n",
    "    return stats"
   ]
  },
  {
   "cell_type": "code",
   "execution_count": 6,
   "metadata": {},
   "outputs": [],
   "source": [
    "# Rescale dataset columns to the range 0-1\n",
    "def normalize_dataset(dataset, minmax):\n",
    "    for row in dataset:\n",
    "        for i in range(len(row) - 1):\n",
    "            row[i] = (row[i] - minmax[i][0]) / (minmax[i][1] - minmax[i][0])"
   ]
  },
  {
   "cell_type": "code",
   "execution_count": 8,
   "metadata": {},
   "outputs": [],
   "source": [
    "# testdataset\n",
    "testdataset= Read_file('Input_Dataset.csv')\n",
    "# dataset = Read_file('Input_Dataset.csv')\n",
    "# x = int(2*len(dataset)/3)\n",
    "# traindataset = dataset[0:x]\n",
    "# testdataset = dataset[x:len(dataset)]\n",
    "for i in range(len(testdataset[0]) - 1):\n",
    "    str_column_to_int(testdataset, i)"
   ]
  },
  {
   "cell_type": "code",
   "execution_count": 9,
   "metadata": {},
   "outputs": [
    {
     "data": {
      "text/plain": [
       "{'0.3777777777777778': 0}"
      ]
     },
     "execution_count": 9,
     "metadata": {},
     "output_type": "execute_result"
    }
   ],
   "source": [
    "# # convert last column to integers\n",
    "str_column_to_int(testdataset, len(testdataset[0]) - 1)\n"
   ]
  },
  {
   "cell_type": "code",
   "execution_count": 11,
   "metadata": {},
   "outputs": [],
   "source": [
    "# Initialize a network\n",
    "def init_nw(n_inputs, n_hidden, n_outputs):\n",
    "    network = list()\n",
    "    hidden_layer = [{'weights': [random() for i in range(n_inputs + 1)]} for i in range(n_hidden)]\n",
    "    network.append(hidden_layer)\n",
    "    output_layer = [{'weights': [random() for i in range(n_hidden + 1)]} for i in range(n_outputs)]\n",
    "    network.append(output_layer)\n",
    "    return network"
   ]
  },
  {
   "cell_type": "code",
   "execution_count": 12,
   "metadata": {},
   "outputs": [],
   "source": [
    "# Calculate neuron activation for an input\n",
    "def activate(weights, inputs):\n",
    "    activation = weights[-1]\n",
    "    for i in range(len(weights) - 1):\n",
    "        activation += weights[i] * inputs[i]\n",
    "    return activation"
   ]
  },
  {
   "cell_type": "code",
   "execution_count": 13,
   "metadata": {},
   "outputs": [],
   "source": [
    "# Transfer neuron activation\n",
    "def transfer(activation):\n",
    "    return 1.0 / (1.0 + exp(-activation))\n"
   ]
  },
  {
   "cell_type": "code",
   "execution_count": 14,
   "metadata": {},
   "outputs": [],
   "source": [
    "# Forward propagate input to a network output\n",
    "def forward_propagate(network, row):\n",
    "    inputs = row\n",
    "    for layer in network:\n",
    "        new_inputs = []\n",
    "        for neuron in layer:\n",
    "            activation = activate(neuron['weights'], inputs)\n",
    "            neuron['output'] = transfer(activation)\n",
    "            new_inputs.append(neuron['output'])\n",
    "        inputs = new_inputs\n",
    "    return inputs"
   ]
  },
  {
   "cell_type": "code",
   "execution_count": 15,
   "metadata": {},
   "outputs": [],
   "source": [
    "# Calculate the derivative of an neuron output\n",
    "def transfer_derivative(output):\n",
    "    return output * (1.0 - output)"
   ]
  },
  {
   "cell_type": "code",
   "execution_count": 16,
   "metadata": {},
   "outputs": [],
   "source": [
    "# Backpropagate error and store in neurons\n",
    "def backward_propagate_error(network, expected):\n",
    "    for i in reversed(range(len(network))):\n",
    "        layer = network[i]\n",
    "        errors = list()\n",
    "        if i != len(network) - 1:\n",
    "            for j in range(len(layer)):\n",
    "                error = 0.0\n",
    "                for neuron in network[i + 1]:\n",
    "                    error += (neuron['weights'][j] * neuron['delta'])\n",
    "                errors.append(error)\n",
    "        else:\n",
    "            for j in range(len(layer)):\n",
    "                neuron = layer[j]\n",
    "                errors.append(expected[j] - neuron['output'])\n",
    "        for j in range(len(layer)):\n",
    "            neuron = layer[j]\n",
    "            neuron['delta'] = errors[j] * transfer_derivative(neuron['output'])"
   ]
  },
  {
   "cell_type": "code",
   "execution_count": 17,
   "metadata": {},
   "outputs": [],
   "source": [
    "# Update network weights with error\n",
    "def update_weights(network, row, l_rate,difference):\n",
    "    if(difference >= 1):\n",
    "        new_l_rate = l_rate + (0.1 * difference)\n",
    "    else: new_l_rate = l_rate\n",
    "    for i in range(len(network)):\n",
    "        inputs = row[:-1]\n",
    "        if i != 0:\n",
    "            inputs = [neuron['output'] for neuron in network[i - 1]]\n",
    "        for neuron in network[i]:\n",
    "            for j in range(len(inputs)):\n",
    "                neuron['weights'][j] += new_l_rate * neuron['delta'] * inputs[j]\n",
    "            neuron['weights'][-1] += new_l_rate * neuron['delta']"
   ]
  },
  {
   "cell_type": "code",
   "execution_count": 18,
   "metadata": {},
   "outputs": [],
   "source": [
    "# Train a network for a fixed number of epochs\n",
    "def train_network(network, train, l_rate, n_epoch, n_outputs):\n",
    "    for epoch in range(n_epoch):\n",
    "        sum_error = 0\n",
    "        for row in train:\n",
    "            difference = 0\n",
    "            outputs = forward_propagate(network, row)\n",
    "            expected = [0 for i in range(n_outputs)]\n",
    "            expected[row[-1]] = 1\n",
    "            sum_error += sum([(expected[i] - outputs[i]) ** 2 for i in range(len(expected))])\n",
    "            backward_propagate_error(network, expected)\n",
    "            update_weights(network, row, l_rate,difference)"
   ]
  },
  {
   "cell_type": "code",
   "execution_count": 27,
   "metadata": {},
   "outputs": [
    {
     "name": "stdout",
     "output_type": "stream",
     "text": [
      "Backprop aglo\n"
     ]
    }
   ],
   "source": [
    "# Make a prediction with a network\n",
    "def predict(network, row):\n",
    "    outputs = forward_propagate(network, row)\n",
    "    return outputs.index(max(outputs))\n",
    "\n",
    "start_time = time.time()\n",
    "n_hidden = 6\n",
    "n_inputs = len(testdataset[0]) - 1\n",
    "n_outputs = 2\n",
    "learning_rate = 0.5\n",
    "n_epoch = 30\n",
    "w = 0\n",
    "r = 1\n",
    "print('Backprop aglo')"
   ]
  },
  {
   "cell_type": "code",
   "execution_count": 34,
   "metadata": {},
   "outputs": [
    {
     "name": "stdout",
     "output_type": "stream",
     "text": [
      "Accuracy:=0.000000\n",
      "Accuracy:=0.000000\n",
      "Accuracy:=100.000000\n",
      "Accuracy:=0.000000\n",
      "Accuracy:=0.000000\n",
      "Accuracy:=100.000000\n",
      "Accuracy:=100.000000\n",
      "Accuracy:=0.000000\n",
      "Accuracy:=100.000000\n",
      "Accuracy:=0.000000\n",
      "Accuracy:=0.000000\n",
      "Accuracy:=100.000000\n",
      "Accuracy:=77.777778\n",
      "Accuracy:=100.000000\n",
      "Accuracy:=0.000000\n",
      "Accuracy:=0.000000\n",
      "Accuracy:=100.000000\n",
      "Accuracy:=100.000000\n",
      "Accuracy:=0.000000\n",
      "Accuracy:=100.000000\n",
      "Accuracy:=0.000000\n",
      "Accuracy:=100.000000\n",
      "Accuracy:=100.000000\n",
      "Accuracy:=100.000000\n",
      "Accuracy:=100.000000\n",
      "Accuracy:=100.000000\n",
      "Accuracy:=100.000000\n",
      "Accuracy:=100.000000\n",
      "Accuracy:=100.000000\n",
      "Accuracy:=0.000000\n",
      "n_epoch: 30\n",
      "learning rate: 0.5\n",
      "Mean_Accuracy: 59.25925925925926\n",
      "Standard_Deviation: 48.54537000832873\n",
      "total_time : 355.0870785713196\n"
     ]
    }
   ],
   "source": [
    "runs = [0]*30\n",
    "for i in range(len(runs)):\n",
    "    # # learning_rate = learning_rate + 0.05\n",
    "    # # n_epoch = n_epoch + 4\n",
    "    r =  r + 1000\n",
    "    if (r + 10000) > 15800:\n",
    "        r = w\n",
    "        w += 300\n",
    "    traindataset = [testdataset[i] for i in range(r, r - 10000)]\n",
    "    network1 = init_nw(n_inputs, n_hidden, n_outputs)\n",
    "    train_network(network1, traindataset, learning_rate, n_epoch, n_outputs)\n",
    "    total = 0\n",
    "    misclassification = 0\n",
    "    total_missclassification_cost = 0.0\n",
    "    for row in testdataset:\n",
    "        total = total + 1\n",
    "        prediction = predict(network1, row)\n",
    "        if (row[-1] != prediction):\n",
    "            misclassification = misclassification + 1\n",
    "    Accuracy =(total - misclassification)*100/total\n",
    "    print('Accuracy:=%f' %(Accuracy))\n",
    "    runs[i] = Accuracy\n",
    "\n",
    "mean = sum(runs)/len(runs)\n",
    "print(\"n_epoch: {}\".format(n_epoch))\n",
    "print(\"learning rate: {}\".format(learning_rate))\n",
    "print(\"Mean_Accuracy: {}\".format(mean))\n",
    "print(\"Standard_Deviation: {}\".format(np.std(runs, 0)))\n",
    "time_taken = time.time() - start_time\n",
    "print(\"total_time : {}\".format(time_taken))\n"
   ]
  },
  {
   "cell_type": "code",
   "execution_count": null,
   "metadata": {},
   "outputs": [],
   "source": []
  },
  {
   "cell_type": "code",
   "execution_count": null,
   "metadata": {},
   "outputs": [],
   "source": []
  }
 ],
 "metadata": {
  "kernelspec": {
   "display_name": "Python 3",
   "language": "python",
   "name": "python3"
  },
  "language_info": {
   "codemirror_mode": {
    "name": "ipython",
    "version": 3
   },
   "file_extension": ".py",
   "mimetype": "text/x-python",
   "name": "python",
   "nbconvert_exporter": "python",
   "pygments_lexer": "ipython3",
   "version": "3.7.3"
  }
 },
 "nbformat": 4,
 "nbformat_minor": 2
}
