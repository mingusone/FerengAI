{
 "cells": [
  {
   "cell_type": "code",
   "execution_count": 1,
   "metadata": {},
   "outputs": [],
   "source": [
    "# Shhhhhhh......\n",
    "import warnings\n",
    "warnings.filterwarnings('ignore')\n",
    "import os\n",
    "os.environ['TF_CPP_MIN_LOG_LEVEL'] = '3' "
   ]
  },
  {
   "cell_type": "code",
   "execution_count": 2,
   "metadata": {},
   "outputs": [],
   "source": [
    "# A simple training model using only the closing price by training it on the last 30 prices and deciding if it should buy or sell tomorrow"
   ]
  },
  {
   "cell_type": "code",
   "execution_count": 3,
   "metadata": {},
   "outputs": [],
   "source": [
    "# Config Variables\n",
    "# We'll do one at a time for now instead of just looping through mongoDB for all of them.\n",
    "company = \"MSFT\"\n",
    "\n",
    "# How many days in the future should we look? Aka how many more columns should be added? \n",
    "days = 300\n",
    "\n",
    "# How often should a robot wait to trade?\n",
    "trade_day_cooldown = 1"
   ]
  },
  {
   "cell_type": "code",
   "execution_count": 4,
   "metadata": {},
   "outputs": [],
   "source": [
    "import ezmongo\n",
    "my_df = ezmongo.get_data(\"GOOG\",\"cleaned\")"
   ]
  },
  {
   "cell_type": "code",
   "execution_count": 5,
   "metadata": {},
   "outputs": [],
   "source": [
    "# df = downloaded_df[['Date','Close']]"
   ]
  },
  {
   "cell_type": "code",
   "execution_count": 9,
   "metadata": {},
   "outputs": [],
   "source": [
    "# With only the date and the closing date, we will generate a new column that will be 1 or 0 which will be whether or not it should sell.\n",
    "\n",
    "def generate_training_column(df):\n",
    "    row_count = df.shape[0]  \n",
    "    \n",
    "    # This lets us loop through every row of the DF\n",
    "    for i in df.index:\n",
    "        if (i < (row_count - trade_day_cooldown)):\n",
    "            val_now = df.get_value(i,'Close')\n",
    "            val_next = df.get_value(i+trade_day_cooldown,'Close')\n",
    "            if val_next > val_now:\n",
    "                df.set_value( i,'Decision',1)\n",
    "            else:\n",
    "                df.set_value( i,'Decision',0)\n",
    "                \n",
    "                \n",
    "generate_training_column(my_df)\n",
    "my_df.dropna(inplace=True)"
   ]
  },
  {
   "cell_type": "code",
   "execution_count": null,
   "metadata": {},
   "outputs": [],
   "source": [
    "# Upload rolled to mongoDB\n",
    "col = db.train\n",
    "upload = df.to_dict('records')\n",
    "col.drop()\n",
    "col.insert(upload)"
   ]
  }
 ],
 "metadata": {
  "kernelspec": {
   "display_name": "Python 3",
   "language": "python",
   "name": "python3"
  },
  "language_info": {
   "codemirror_mode": {
    "name": "ipython",
    "version": 3
   },
   "file_extension": ".py",
   "mimetype": "text/x-python",
   "name": "python",
   "nbconvert_exporter": "python",
   "pygments_lexer": "ipython3",
   "version": "3.6.8"
  }
 },
 "nbformat": 4,
 "nbformat_minor": 2
}
